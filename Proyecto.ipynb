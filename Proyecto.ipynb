{
 "cells": [
  {
   "cell_type": "markdown",
   "metadata": {},
   "source": [
    "##  ENCABEZADO"
   ]
  },
  {
   "cell_type": "markdown",
   "metadata": {},
   "source": [
    "##  RESUMEN"
   ]
  },
  {
   "cell_type": "markdown",
   "metadata": {},
   "source": [
    "##  INTRODUCCIÓN \n",
    "\n",
    "IDEAS SUELTAS PARA CONSTRUIR LA INTRODUCIÓN: \n",
    "- Las redes ópticas de altas velocidades de transmisión están usando rejilla flexibles super canales y multiportadoras los cuales se ven afectados por el solapamiento de los canales, ....\n",
    "- El nivel de ICI afecta el diagrama de constelación de forma similar al comportamiento del ruido gaussiano....\n"
   ]
  },
  {
   "cell_type": "markdown",
   "metadata": {},
   "source": [
    "##  ESTADO DEL ARTE Y MARCO TEÓRICO\n",
    "#### DESCRIPCIÓN DEL  PROBLEMA\n",
    "\n",
    "Debido al crecimiento de las redes de comunicaciones y la alta demanda de una mayor velocidad, los sistemas de comunicaciones ópticas están implementando la ténologia de supercanales en redes de rejilla flexibles en donde el ancho de cada canal se va adaptando según el uso, bucando aprovechar el ancho de banda disponible en todo momento, por lo que el sistema queda susceptible a la interfencia entre canales, la cual acarrea problemas de ruido y posible perdida de información para los canales afectados. Se vuelve necesario entonces, un mecanismo que monitoree el medio de transmisión y mida cuando se este generando solapamiento de canales para aplicar una corrección.\n",
    "\n",
    "En este proyecto se procura estimar si existe ICI (Inter-Channel-Interference) en diferentes escenarios* de redes Wavelenght Division Multiplexing - Passive Optical Network (WDM-PON) desde los mapas de calor correspondientes a los diagramas de constelación con la componentes In-Phase (I) y Quadrature (Q) de los símbolos recibidos , aplicando técnicas de inteligencia computacional y reconocimiento de patrones sobre estos.\n",
    " \n",
    "*Los diferentes escenarios consisten en una transmisión de 100000 símbolos con formato de modulación 16QAM en donde se varía el porcentaje de solapamiento del canal en consideración. \n",
    "La base de datos esta conformada por las componentes I y Q  de los símbolos recibidos de un enlace WDM-PON simulado en el entorno VPI, posteriormente se hace una ecualización (usando un ecualizador LMS) en Matlab. Por tanto las entradas  a la técnica que se implementará son los mapas de calor de los diagramas de constelación ecualizados.\n",
    "\n",
    "\n",
    "#### PREGUNTAS\n",
    "\n",
    "- Con que precisión es posible estimar el nivel de ICI en una red WDM-PON mediante la aplicación de técnicas de inteligencia computacional y reconocimiento de patrones, partiendo de la información brindada por las características de los mapas de calor de los diagramas IQ recibidos, como lo son la densidad de puntos, excentricidad, ejes, centroides, diametros de cada cluster?\n",
    "\n",
    "#### TAXONOMÍA\n",
    "\n",
    "Para el estado del arte se cuenta con surveys de las técnicas de machine learning y reconocimiento de patrones aplicadas en sistemas de comunicaciones ópticas para mejorar diferentes aspectos de dichos sistemas en la redes como lo son demodulación, en general el monitoreo de redes, procesamiento de las señales ópticas y otras. De aquellos artículos se mencionarán las técnicas empleadas haciendo énfasis en las que se usan para el monitoreo de solapamiento de canales en redes WDM-PON. Por lo que la taxonomía se plantea por las técnicas que han sido usadas en los artículos para reconocer si se presenta interferencia entre canales, como lo son los algoritmos de clustering. \n"
   ]
  },
  {
   "cell_type": "markdown",
   "metadata": {},
   "source": [
    "##  MARCO EXPERIMENTAL"
   ]
  },
  {
   "cell_type": "markdown",
   "metadata": {},
   "source": [
    "##  RESULTADOS "
   ]
  },
  {
   "cell_type": "markdown",
   "metadata": {},
   "source": [
    "##  DISCUSIÓN "
   ]
  },
  {
   "cell_type": "markdown",
   "metadata": {},
   "source": [
    "##  CONCLUSIONES"
   ]
  },
  {
   "cell_type": "markdown",
   "metadata": {},
   "source": [
    "##  BIBLIOGRAFÍA"
   ]
  },
  {
   "cell_type": "markdown",
   "metadata": {},
   "source": [
    "##  ANEXOS"
   ]
  }
 ],
 "metadata": {
  "kernelspec": {
   "display_name": "Python 3",
   "language": "python",
   "name": "python3"
  },
  "language_info": {
   "codemirror_mode": {
    "name": "ipython",
    "version": 3
   },
   "file_extension": ".py",
   "mimetype": "text/x-python",
   "name": "python",
   "nbconvert_exporter": "python",
   "pygments_lexer": "ipython3",
   "version": "3.6.5"
  }
 },
 "nbformat": 4,
 "nbformat_minor": 2
}
