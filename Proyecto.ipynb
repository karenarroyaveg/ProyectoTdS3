{
 "cells": [
  {
   "cell_type": "markdown",
   "metadata": {},
   "source": [
    "##  ENCABEZADO"
   ]
  },
  {
   "cell_type": "markdown",
   "metadata": {},
   "source": [
    "##  RESUMEN"
   ]
  },
  {
   "cell_type": "markdown",
   "metadata": {},
   "source": [
    "##  INTRODUCCIÓN \n",
    "\n",
    "IDEAS SUELTAS PARA CONSTRUIR LA INTRODUCIÓN: \n",
    "- Las redes ópticas de altas velocidades de transmisión están usando rejilla flexibles super canales y multiportadoras los cuales se ven afectados por el solapamiento de los canales, razón por la cual se vuelve necesario un mecanismo que mida si cuando haya solapamiento de canales y corrija....\n",
    "- El nivel de ICI afecta el diagrama de constelación de forma similar al comportamiento del ruido gaussiano....\n",
    "- Técnicas usadas para estimación de ICI...."
   ]
  },
  {
   "cell_type": "markdown",
   "metadata": {},
   "source": [
    "##  ESTADO DEL ARTE Y MARCO TEÓRICO\n",
    "#### DESCRIPCIÓN DEL  PROBLEMA\n",
    "\n",
    "Se procura estimar el nivel de ICI (Inter-Channel-Interference) en diferentes escenarios* de redes Wavelenght Division Multiplexing - Passive Optical Network (WDM-PON) desde los mapas de calor correspondientes a los diagramas de constelación con la componentes In-Phase (I) y Quadrature (Q) de los símbolos recibidos , aplicando técnicas de inteligencia computacional y reconocimiento de patrones sobre estos.\n",
    "\n",
    " \n",
    "*Los diferentes escenarios consisten en una transmisión de 100000 símbolos con formato de modulación 16QAM en donde se varía el porcentaje de solapamiento del canal en consideración. \n",
    "La base de datos esta conformada por las componentes I y Q  de los símbolos recibidos de un enlace WDM-PON simulado en el entorno VPI, posteriormente se hace una ecualización (usando un ecualizador LMS) en Matlab. Por lo que las entradas  a la técnica que se implementará  diagramas de constelación ecualizados son los que se convierten en los mapas de \n",
    "\n",
    "\n",
    "#### PREGUNTAS\n",
    "\n",
    "- Con que precisión es posible estimar el nivel de ICI en una red WDM-PON mediante la aplicación de técnicas de inteligencia computacional y reconocimiento de patrones, partiendo de mapas de calor de los diagramas IQ recibidos?\n",
    "\n"
   ]
  },
  {
   "cell_type": "markdown",
   "metadata": {},
   "source": [
    "##  MARCO EXPERIMENTAL"
   ]
  },
  {
   "cell_type": "markdown",
   "metadata": {},
   "source": [
    "##  RESULTADOS "
   ]
  },
  {
   "cell_type": "markdown",
   "metadata": {},
   "source": [
    "##  DISCUSIÓN "
   ]
  },
  {
   "cell_type": "markdown",
   "metadata": {},
   "source": [
    "##  CONCLUSIONES"
   ]
  },
  {
   "cell_type": "markdown",
   "metadata": {},
   "source": [
    "##  BIBLIOGRAFÍA"
   ]
  },
  {
   "cell_type": "markdown",
   "metadata": {},
   "source": [
    "##  ANEXOS"
   ]
  }
 ],
 "metadata": {
  "kernelspec": {
   "display_name": "Python 3",
   "language": "python",
   "name": "python3"
  },
  "language_info": {
   "codemirror_mode": {
    "name": "ipython",
    "version": 3
   },
   "file_extension": ".py",
   "mimetype": "text/x-python",
   "name": "python",
   "nbconvert_exporter": "python",
   "pygments_lexer": "ipython3",
   "version": "3.6.5"
  }
 },
 "nbformat": 4,
 "nbformat_minor": 2
}
