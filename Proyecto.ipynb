{
 "cells": [
  {
   "cell_type": "markdown",
   "metadata": {},
   "source": [
    "##  ENCABEZADO"
   ]
  },
  {
   "cell_type": "markdown",
   "metadata": {},
   "source": [
    "##  RESUMEN"
   ]
  },
  {
   "cell_type": "markdown",
   "metadata": {},
   "source": [
    "##  INTRODUCCIÓN \n",
    "\n",
    "IDEAS SUELTAS PARA CONSTRUIR LA INTRODUCIÓN: \n",
    "- Las redes ópticas de altas velocidades de transmisión están usando rejilla flexibles super canales y multiportadoras los cuales se ven afectados por el solapamiento de los canales, ....\n",
    "- El nivel de ICI afecta el diagrama de constelación de forma similar al comportamiento del ruido gaussiano....\n"
   ]
  },
  {
   "cell_type": "markdown",
   "metadata": {},
   "source": [
    "##  ESTADO DEL ARTE Y MARCO TEÓRICO (AVANCE)\n",
    "\n",
    "Técnicas de aprendizaje de máquina y reconocimiento de patrones se han empleado en busca de mejorar en los sistemas de comunicaciones aspectos como su eficiencia, capacidad, cobertura y costo [1]. Particularmente, en las redes ópticas han sido ampliamente estudiadas estas técnicas en aplicaciones como enrutamiento, asignación de longitud de onda, entre otras asociadas a la capa de red y de transporte [2, 3].\n",
    "\n",
    "Musumeci et al. en [4] muestran una perspectiva general de los métodos de aprendizaje de maquina usados en redes ópticas en donde se encuentran aplicaciones de métodos supervisados y no supervisados en calidad de transmisión, control de amplificadores ópticos, mitigación de no linealidades, reconocimiento del formato de modulación, corrección de errores, clasificación de flujo y monitoreo de canales. Esta última aplicación mencionada, esta tomando relevancia actualmente con la aparición de la tecnologia de redes flexibles, donde se encuentra un problema especifico y es el de monitorear si se presenta solapamiento entre canales. \n",
    "\n",
    "La interferencia entre canales acarrea afectaciones en la calidad de la transmision al inducir ruido sobre la señal de información [5]. La degradación del desempeño de la transmisión por el impacto del solapamiento espectral de canales, en un enlace WDM con formatos de modulación QPSK y 16QAM, ha sido estudiada por Torres et al. en [6] mostrando, en términos de la tasa de error de bit, una penalidad de entre 4 y 9 órdenes de magnitud. Por tal razón, buscando mantener la calidad de transmisión, han surgido investigaciones sobre como mitigar estos efectos degrandantes, usando métodos de cancelación de interferencia 2D [7] y algoritmos de ecualización [8]. Y también, investigaciones de como detectar la interferencia inter-canal usando algotimos de agrupamiento, como DBSCAN[9]. \n",
    "\n",
    "[1] D. Cote, \"Using machine learning in communication networks [Invited],\" in IEEE/OSA Journal of Optical Communications and Networking, vol. 10, no. 10, pp. D100-D109, Oct. 2018, doi: 10.1364/JOCN.10.00D100.\n",
    "\n",
    "[2] T. T. T. Nguyen and G. Armitage, “A survey of techniques for Internet traffic classification using machine learning,” IEEE Commun. Surveys Tuts., vol. 10, no. 4, pp. 56–76, 4th Quart., 2008.\n",
    "\n",
    "[3] K. Zhu and B. Mukherjee, “Traffic grooming in an optical WDM mesh network,” IEEE J. Sel. Areas Commun., vol. 20, no. 1, pp. 122–133, Jan. 2002.\n",
    "\n",
    "[4] F. Musumeci et al., \"An Overview on Application of Machine Learning Techniques in Optical Networks,\" in IEEE Communications Surveys & Tutorials, vol. 21, no. 2, pp. 1383-1408, Secondquarter 2019, doi: 10.1109/COMST.2018.2880039.4\n",
    "\n",
    "[5] Bhattacharya, M., & Chattopadhyay, T. (1999). Influence of adjacent channel interference on the frequency-modulated WDM optical communication system. Journal of lightwave technology, 17(12), 2516.\n",
    "\n",
    "[6] Torres, J. J. G., Soto, A. M. C., & González, N. G. (2015, May). Characterization of interchannel interference effects in multicarrier 32-Gbaud QPSK/16QAM Nyquist systems. In IEEE Colombian Conference on Communication and Computing (IEEE COLCOM 2015) (pp. 1-6). IEEE.\n",
    "\n",
    "[7] Lehmann, F., Ramantanis, P., & Frignac, Y. (2014). Joint channel estimation, interference mitigation, and decoding for WDM coherent optical communications. Journal of Optical Communications and Networking, 6(3), 315-325.\n",
    "\n",
    "[8] Torres, J. J. G., Soto, A. M. C., & González, N. G. (2015, November). Mitigation of linear inter-channel interference for sub-Nyquist spacing in optical multicarrier systems. In 2015 7th IEEE Latin-American Conference on Communications (LATINCOM) (pp. 1-5). IEEE.\n",
    "\n",
    "[9] Torres, J. J. G., & González, N. G. (2019, July). Overlapping Estimation based on DBSCAN Algorithm in Nyquist-WDM Systems. In Signal Processing in Photonic Communications (pp. SpTh1E-2). Optical Society of America.\n"
   ]
  },
  {
   "cell_type": "markdown",
   "metadata": {},
   "source": [
    "#### DESCRIPCIÓN DEL  PROBLEMA\n",
    "\n",
    "Debido al crecimiento de las redes de comunicaciones y la alta demanda de una mayor velocidad, los sistemas de comunicaciones ópticas están implementando la ténologia de supercanales en redes de rejilla flexibles en donde el ancho de cada canal se va adaptando según el uso, bucando aprovechar el ancho de banda disponible en todo momento, por lo que el sistema queda susceptible a la interfencia entre canales, la cual acarrea problemas de ruido y posible perdida de información para los canales afectados. Se vuelve necesario entonces, un mecanismo que monitoree el medio de transmisión y mida cuando se este generando solapamiento de canales para aplicar una corrección.\n",
    "\n",
    "En este proyecto se procura estimar si existe ICI (Inter-Channel-Interference) en diferentes escenarios* de redes Wavelenght Division Multiplexing - Passive Optical Network (WDM-PON) desde los mapas de calor correspondientes a los diagramas de constelación con la componentes In-Phase (I) y Quadrature (Q) de los símbolos recibidos , aplicando técnicas de inteligencia computacional y reconocimiento de patrones sobre estos.\n",
    " \n",
    "*Los diferentes escenarios consisten en una transmisión de 100000 símbolos con formato de modulación 16QAM en donde se varía el porcentaje de solapamiento del canal en consideración. \n",
    "La base de datos esta conformada por las componentes I y Q  de los símbolos recibidos de un enlace WDM-PON simulado en el entorno VPI, posteriormente se hace una ecualización (usando un ecualizador LMS) en Matlab. Por tanto las entradas  a la técnica que se implementará son los mapas de calor de los diagramas de constelación ecualizados.\n",
    "\n",
    "\n",
    "#### PREGUNTAS\n",
    "\n",
    "- Con que precisión es posible estimar el nivel de ICI en una red WDM-PON mediante la aplicación de técnicas de inteligencia computacional y reconocimiento de patrones, partiendo de la información brindada por las características de los mapas de calor de los diagramas IQ recibidos, como lo son la densidad de puntos, excentricidad, ejes, centroides, diametros de cada cluster?\n",
    "\n",
    "#### TAXONOMÍA\n",
    "\n",
    "Para el estado del arte se cuenta con surveys de las técnicas de machine learning y reconocimiento de patrones aplicadas en sistemas de comunicaciones ópticas para mejorar diferentes aspectos de dichos sistemas en la redes como lo son demodulación, en general el monitoreo de redes, procesamiento de las señales ópticas y otras. De aquellos artículos se mencionarán las técnicas empleadas haciendo énfasis en las que se usan para el monitoreo de solapamiento de canales en redes WDM-PON. Por lo que la taxonomía se plantea por las técnicas que han sido usadas en los artículos para reconocer si se presenta interferencia entre canales, como lo son los algoritmos de clustering. \n"
   ]
  },
  {
   "cell_type": "markdown",
   "metadata": {},
   "source": [
    "##  MARCO EXPERIMENTAL"
   ]
  },
  {
   "cell_type": "markdown",
   "metadata": {},
   "source": [
    "##  RESULTADOS "
   ]
  },
  {
   "cell_type": "markdown",
   "metadata": {},
   "source": [
    "##  DISCUSIÓN "
   ]
  },
  {
   "cell_type": "markdown",
   "metadata": {},
   "source": [
    "##  CONCLUSIONES"
   ]
  },
  {
   "cell_type": "markdown",
   "metadata": {},
   "source": [
    "##  BIBLIOGRAFÍA"
   ]
  },
  {
   "cell_type": "markdown",
   "metadata": {},
   "source": [
    "##  ANEXOS"
   ]
  }
 ],
 "metadata": {
  "kernelspec": {
   "display_name": "Python 3",
   "language": "python",
   "name": "python3"
  },
  "language_info": {
   "codemirror_mode": {
    "name": "ipython",
    "version": 3
   },
   "file_extension": ".py",
   "mimetype": "text/x-python",
   "name": "python",
   "nbconvert_exporter": "python",
   "pygments_lexer": "ipython3",
   "version": "3.7.6"
  }
 },
 "nbformat": 4,
 "nbformat_minor": 2
}
